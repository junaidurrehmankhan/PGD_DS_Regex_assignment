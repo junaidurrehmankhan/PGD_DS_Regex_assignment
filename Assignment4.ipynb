{
  "cells": [
    {
      "cell_type": "markdown",
      "metadata": {
        "id": "view-in-github",
        "colab_type": "text"
      },
      "source": [
        "<a href=\"https://colab.research.google.com/github/junaidurrehmankhan/PGD_DS_Regex_assignment/blob/main/Assignment4.ipynb\" target=\"_parent\"><img src=\"https://colab.research.google.com/assets/colab-badge.svg\" alt=\"Open In Colab\"/></a>"
      ]
    },
    {
      "cell_type": "markdown",
      "id": "dbeb14e1",
      "metadata": {
        "id": "dbeb14e1"
      },
      "source": [
        "---\n",
        "\n",
        "## Advanced Regular Expression Assignments\n",
        "\n",
        "### Assignment 1: Extracting Phone Numbers\n",
        "\n",
        "**Raw Text:**\n",
        "Extract all valid Pakistani phone numbers from a given text.\n",
        "\n",
        "**Example:**\n",
        "```\n",
        "Text: Please contact me at 0301-1234567 or 042-35678901 for further details.\n",
        "```\n",
        "\n"
      ]
    },
    {
      "cell_type": "code",
      "execution_count": null,
      "id": "b830b03e",
      "metadata": {
        "id": "b830b03e",
        "outputId": "7b6e3e9e-adb1-4db1-f190-381744894366",
        "colab": {
          "base_uri": "https://localhost:8080/"
        }
      },
      "outputs": [
        {
          "output_type": "stream",
          "name": "stdout",
          "text": [
            "0301\n",
            "042\n"
          ]
        }
      ],
      "source": [
        "import re\n",
        "\n",
        "text = \"Please contact me at 0301-1234567 or 042-35678901 for further details.\"\n",
        "\n",
        "# pattern to match Pakistani phone numbers 042 and 03 including a combination of 2 digits\n",
        "pattern = r'\\b(03\\d{2}|042)\\b'\n",
        "phone_numbers = re.findall(pattern, text)\n",
        "for number in phone_numbers:\n",
        "    print(number)\n"
      ]
    },
    {
      "cell_type": "code",
      "source": [
        "import re\n",
        "\n",
        "text = \"Please contact me at 0301-1234567 or 042-35678901 for further details.\"\n",
        "\n",
        "# pattern to match exact code 0301 and 042 Pakistani phone numbers\n",
        "pattern = r'\\b(0301|042)\\b'\n",
        "phone_numbers = re.findall(pattern, text)\n",
        "for number in phone_numbers:\n",
        "    print(number)"
      ],
      "metadata": {
        "id": "C0igAy7BbWYb",
        "outputId": "bf7cc5f0-bd9f-48cb-ba0d-c6c03e32b315",
        "colab": {
          "base_uri": "https://localhost:8080/"
        }
      },
      "id": "C0igAy7BbWYb",
      "execution_count": null,
      "outputs": [
        {
          "output_type": "stream",
          "name": "stdout",
          "text": [
            "0301\n",
            "042\n"
          ]
        }
      ]
    },
    {
      "cell_type": "markdown",
      "id": "dd34fb2f",
      "metadata": {
        "id": "dd34fb2f"
      },
      "source": [
        "### Assignment 2: Validating Email Addresses\n",
        "\n",
        "**Raw Text:**\n",
        "Validate email addresses according to Pakistani domain extensions (.pk).\n",
        "\n",
        "**Example:**\n",
        "```\n",
        "Text: Contact us at info@example.com or support@domain.pk for assistance.\n",
        "```\n",
        "\n"
      ]
    },
    {
      "cell_type": "code",
      "source": [
        "import re\n",
        "\n",
        "text = \"Contact us at info@example.com or support@domain.pk for assistance.\"\n",
        "pattern = r'\\b[A-Za-z0-9._-]+@[A-Za-z0-9._-]+\\.(?:com.pk|net.pk|org.pk|pk)\\b'\n",
        "email_addresses = re.findall(pattern, text)\n",
        "for email in email_addresses:\n",
        "    print(email)"
      ],
      "metadata": {
        "colab": {
          "base_uri": "https://localhost:8080/"
        },
        "id": "WeO_uvRDGGes",
        "outputId": "0eaddca6-a956-4c47-8a22-87f40ab7aefb"
      },
      "id": "WeO_uvRDGGes",
      "execution_count": null,
      "outputs": [
        {
          "output_type": "stream",
          "name": "stdout",
          "text": [
            "support@domain.pk\n"
          ]
        }
      ]
    },
    {
      "cell_type": "markdown",
      "id": "0bd2f6f3",
      "metadata": {
        "id": "0bd2f6f3"
      },
      "source": [
        "### Assignment 3: Extracting CNIC Numbers\n",
        "\n",
        "**Raw Text:**\n",
        "Extract all Pakistani CNIC (Computerized National Identity Card) numbers from a given text.\n",
        "\n",
        "**Example:**\n",
        "```\n",
        "Text: My CNIC is 12345-6789012-3 and another one is 34567-8901234-5.\n",
        "```\n"
      ]
    },
    {
      "cell_type": "code",
      "source": [
        "import re\n",
        "\n",
        "text = \"My CNIC is 12345-6789012-3 and another one is 34567-8901234-5.\"\n",
        "\n",
        "pattern = r'\\b\\d{5}-\\d{7}-\\d{1}\\b'\n",
        "cnic_numbers = re.findall(pattern, text)\n",
        "for cnic in cnic_numbers:\n",
        "    print(cnic)"
      ],
      "metadata": {
        "colab": {
          "base_uri": "https://localhost:8080/"
        },
        "id": "5MqAeHZUJVSx",
        "outputId": "ac04225e-100f-41e5-b964-5dc62abcfc95"
      },
      "id": "5MqAeHZUJVSx",
      "execution_count": null,
      "outputs": [
        {
          "output_type": "stream",
          "name": "stdout",
          "text": [
            "12345-6789012-3\n",
            "34567-8901234-5\n"
          ]
        }
      ]
    },
    {
      "cell_type": "code",
      "execution_count": null,
      "id": "b825834e",
      "metadata": {
        "id": "b825834e"
      },
      "outputs": [],
      "source": []
    },
    {
      "cell_type": "markdown",
      "id": "f21a0a2f",
      "metadata": {
        "id": "f21a0a2f"
      },
      "source": [
        "\n",
        "### Assignment 4: Identifying Urdu Words\n",
        "\n",
        "**Raw Text:**\n",
        "Identify and extract Urdu words from a mixed English-Urdu text.\n",
        "\n",
        "**Example:**\n",
        "```\n",
        "Text: یہ sentence میں کچھ English words بھی ہیں۔\n",
        "```\n",
        "\n"
      ]
    },
    {
      "cell_type": "code",
      "source": [
        "import re\n",
        "\n",
        "text = \"یہ sentence میں کچھ English words بھی ہیں۔\"\n",
        "\n",
        "pattern = r'[\\u0600-\\u06FF]+'\n",
        "urdu_words = re.findall(pattern, text)\n",
        "for word in urdu_words:\n",
        "    print(word)"
      ],
      "metadata": {
        "colab": {
          "base_uri": "https://localhost:8080/"
        },
        "id": "SzthzdRzKJ6y",
        "outputId": "24ad43a1-91f6-4cbb-ea5c-f579eebc8da3"
      },
      "id": "SzthzdRzKJ6y",
      "execution_count": null,
      "outputs": [
        {
          "output_type": "stream",
          "name": "stdout",
          "text": [
            "یہ\n",
            "میں\n",
            "کچھ\n",
            "بھی\n",
            "ہیں۔\n"
          ]
        }
      ]
    },
    {
      "cell_type": "markdown",
      "id": "421405e8",
      "metadata": {
        "id": "421405e8"
      },
      "source": [
        "### Assignment 5: Finding Dates\n",
        "\n",
        "**Raw Text:**\n",
        "Find and extract dates in the format DD-MM-YYYY from a given text.\n",
        "\n",
        "**Example:**\n",
        "```\n",
        "Text: The event will take place on 15-08-2023 and 23-09-2023.\n",
        "```\n",
        "\n"
      ]
    },
    {
      "cell_type": "code",
      "execution_count": null,
      "id": "c2f9d8bf",
      "metadata": {
        "id": "c2f9d8bf",
        "colab": {
          "base_uri": "https://localhost:8080/"
        },
        "outputId": "b6987f31-48da-4016-f156-916686a59a21"
      },
      "outputs": [
        {
          "output_type": "stream",
          "name": "stdout",
          "text": [
            "15-08-2023\n",
            "23-09-2023\n"
          ]
        }
      ],
      "source": [
        "import re\n",
        "\n",
        "Text = \"The event will take place on 15-08-2023 and 23-09-2023.\"\n",
        "pattern = r'\\b\\d{2}-\\d{2}-\\d{4}\\b'\n",
        "dates = re.findall(pattern, text)\n",
        "for date in dates:\n",
        "    print(date)"
      ]
    },
    {
      "cell_type": "markdown",
      "id": "6b817815",
      "metadata": {
        "id": "6b817815"
      },
      "source": [
        "### Assignment 6: Extracting URLs\n",
        "\n",
        "**Raw Text:**\n",
        "Extract all URLs from a text that belong to Pakistani domains.\n",
        "\n",
        "**Example:**\n",
        "```\n",
        "Text: Visit http://www.example.pk or https://website.com.pk for more information.\n",
        "```\n",
        "\n"
      ]
    },
    {
      "cell_type": "code",
      "execution_count": null,
      "id": "c2ba10ac",
      "metadata": {
        "id": "c2ba10ac",
        "colab": {
          "base_uri": "https://localhost:8080/"
        },
        "outputId": "973a9c07-927e-41d3-f57a-1cf8143da6d6"
      },
      "outputs": [
        {
          "output_type": "stream",
          "name": "stdout",
          "text": [
            "example.pk\n",
            "website.com.pk\n"
          ]
        }
      ],
      "source": [
        "import re\n",
        "\n",
        "text = \"Visit http://www.example.pk or https://website.com.pk for more information.\"\n",
        "pattern = r'https?://(?:www\\.)?([A-Za-z0-9.-]+\\.pk)(?:/[A-Za-z0-9.-/]*)?'\n",
        "urls = re.findall(pattern, text)\n",
        "for url in urls:\n",
        "    print(url)"
      ]
    },
    {
      "cell_type": "markdown",
      "id": "7ff1dc07",
      "metadata": {
        "id": "7ff1dc07"
      },
      "source": [
        "### Assignment 7: Analyzing Currency\n",
        "\n",
        "**Raw Text:**\n",
        "Extract and analyze currency amounts in Pakistani Rupees (PKR) from a given text.\n",
        "\n",
        "**Example:**\n",
        "```\n",
        "Text: The product costs PKR 1500, while the deluxe version is priced at Rs. 2500.\n",
        "```\n",
        "\n"
      ]
    },
    {
      "cell_type": "code",
      "execution_count": null,
      "id": "28769652",
      "metadata": {
        "id": "28769652",
        "colab": {
          "base_uri": "https://localhost:8080/"
        },
        "outputId": "3164f202-1ef1-4a7b-80b7-3136f063fa61"
      },
      "outputs": [
        {
          "output_type": "stream",
          "name": "stdout",
          "text": [
            "PKR 1500\n",
            "Rs. 2500\n"
          ]
        }
      ],
      "source": [
        "import re\n",
        "\n",
        "text = \"The product costs PKR 1500, while the deluxe version is priced at Rs. 2500.\"\n",
        "pattern = r'(PKR|Rs\\.)\\s+(\\d+(?:,\\d{3})*(?:\\.\\d{2})?)'\n",
        "matches = re.findall(pattern, text)\n",
        "for match in matches:\n",
        "    currency_symbol, amount = match\n",
        "    print(f\"{currency_symbol} {amount}\")\n"
      ]
    },
    {
      "cell_type": "markdown",
      "id": "651c8b5d",
      "metadata": {
        "id": "651c8b5d"
      },
      "source": [
        "### Assignment 8: Removing Punctuation\n",
        "\n",
        "**Raw Text:**\n",
        "Remove all punctuation marks from a text while preserving Urdu characters.\n",
        "\n",
        "**Example:**\n",
        "```\n",
        "Text: کیا! آپ, یہاں؟\n",
        "```\n",
        "\n"
      ]
    },
    {
      "cell_type": "code",
      "execution_count": null,
      "id": "96350bf0",
      "metadata": {
        "id": "96350bf0",
        "colab": {
          "base_uri": "https://localhost:8080/"
        },
        "outputId": "ee35b471-58a7-4813-d61a-12af1b555e1c"
      },
      "outputs": [
        {
          "output_type": "stream",
          "name": "stdout",
          "text": [
            "کیا آپ یہاں\n"
          ]
        }
      ],
      "source": [
        "import re\n",
        "\n",
        "text = \"کیا! آپ, یہاں؟\"\n",
        "cleaned_text = re.sub(r'[^\\w\\sآ-ی]', '', text)\n",
        "print(cleaned_text)\n"
      ]
    },
    {
      "cell_type": "markdown",
      "id": "8cc27684",
      "metadata": {
        "id": "8cc27684"
      },
      "source": [
        "### Assignment 9: Extracting City Names\n",
        "\n",
        "**Raw Text:**\n",
        "Extract names of Pakistani cities from a given text.\n",
        "\n",
        "**Example:**\n",
        "```\n",
        "Text: Lahore, Karachi, Islamabad, and Peshawar are major cities of Pakistan.\n",
        "```\n"
      ]
    },
    {
      "cell_type": "code",
      "source": [
        "import re\n",
        "\n",
        "# Sample text\n",
        "text = \"Lahore, Karachi, Islamabad, and Peshawar are major cities of Pakistan.\"\n",
        "\n",
        "# Define a regular expression pattern to match city names\n",
        "pattern = r'\\b(?:Lahore|Karachi|Islamabad|Peshawar)\\b'\n",
        "\n",
        "# Find all matching city names in the text\n",
        "city_names = re.findall(pattern, text)\n",
        "\n",
        "# Print the extracted city names\n",
        "for city in city_names:\n",
        "    print(city)\n"
      ],
      "metadata": {
        "colab": {
          "base_uri": "https://localhost:8080/"
        },
        "id": "h-uA2tYWa4I9",
        "outputId": "66ca106d-64be-42d1-dad0-363e21e08a7a"
      },
      "id": "h-uA2tYWa4I9",
      "execution_count": 69,
      "outputs": [
        {
          "output_type": "stream",
          "name": "stdout",
          "text": [
            "Lahore\n",
            "Karachi\n",
            "Islamabad\n",
            "Peshawar\n"
          ]
        }
      ]
    },
    {
      "cell_type": "markdown",
      "id": "219b6c4c",
      "metadata": {
        "id": "219b6c4c"
      },
      "source": [
        "\n",
        "### Assignment 10: Analyzing Vehicle Numbers\n",
        "\n",
        "**Raw Text:**\n",
        "Identify and extract Pakistani vehicle registration numbers (e.g., ABC-123) from a text.\n",
        "\n",
        "**Example:**\n",
        "```\n",
        "Text: I saw a car with the number plate LEA-567 near the market.\n",
        "```\n",
        "\n"
      ]
    },
    {
      "cell_type": "code",
      "execution_count": null,
      "id": "33e1e5ba",
      "metadata": {
        "id": "33e1e5ba",
        "colab": {
          "base_uri": "https://localhost:8080/"
        },
        "outputId": "d6c74e35-c339-4b9a-e50e-0c54680658d2"
      },
      "outputs": [
        {
          "output_type": "stream",
          "name": "stdout",
          "text": [
            "LEA-567\n"
          ]
        }
      ],
      "source": [
        "import re\n",
        "\n",
        "text = \"I saw a car with the number plate LEA-567 near the market.\"\n",
        "pattern = r'\\b[A-Z]{3}-\\d{3}\\b'\n",
        "registration_numbers = re.findall(pattern, text)\n",
        "for reg_number in registration_numbers:\n",
        "    print(reg_number)\n"
      ]
    }
  ],
  "metadata": {
    "kernelspec": {
      "display_name": "Python 3",
      "name": "python3"
    },
    "language_info": {
      "codemirror_mode": {
        "name": "ipython",
        "version": 3
      },
      "file_extension": ".py",
      "mimetype": "text/x-python",
      "name": "python",
      "nbconvert_exporter": "python",
      "pygments_lexer": "ipython3",
      "version": "3.11.3"
    },
    "colab": {
      "provenance": [],
      "gpuType": "T4",
      "include_colab_link": true
    },
    "accelerator": "GPU"
  },
  "nbformat": 4,
  "nbformat_minor": 5
}